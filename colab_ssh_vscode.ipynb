{
  "nbformat": 4,
  "nbformat_minor": 0,
  "metadata": {
    "colab": {
      "name": "colab_ssh_vscode.ipynb",
      "provenance": []
    },
    "kernelspec": {
      "name": "python3",
      "display_name": "Python 3"
    }
  },
  "cells": [
    {
      "cell_type": "markdown",
      "metadata": {
        "id": "Foe594k_42Ok",
        "colab_type": "text"
      },
      "source": [
        "# Install ssh server"
      ]
    },
    {
      "cell_type": "code",
      "metadata": {
        "id": "NMRLGC3R4pVZ",
        "colab_type": "code",
        "colab": {}
      },
      "source": [
        "# Install and enable SSH server\n",
        "! apt-get install -qq -o=Dpkg::Use-Pty=0 openssh-server > /dev/null\n",
        "! mkdir -p /var/run/sshd\n",
        "! echo \"PermitRootLogin yes\" >> /etc/ssh/sshd_config \n",
        "get_ipython().system_raw('/usr/sbin/sshd -D &')"
      ],
      "execution_count": 0,
      "outputs": []
    },
    {
      "cell_type": "markdown",
      "metadata": {
        "id": "JJ-9AUlU5BoN",
        "colab_type": "text"
      },
      "source": [
        "# Make directory for SSH"
      ]
    },
    {
      "cell_type": "code",
      "metadata": {
        "id": "hIk9J0-z4r4z",
        "colab_type": "code",
        "colab": {}
      },
      "source": [
        "!mkdir /root/.ssh"
      ],
      "execution_count": 0,
      "outputs": []
    },
    {
      "cell_type": "markdown",
      "metadata": {
        "id": "p--o8Fuj5GZF",
        "colab_type": "text"
      },
      "source": [
        "# Upload private key"
      ]
    },
    {
      "cell_type": "code",
      "metadata": {
        "id": "WgRaCUjj4vpg",
        "colab_type": "code",
        "colab": {}
      },
      "source": [
        "from google.colab import files\n",
        "uploaded = files.upload()"
      ],
      "execution_count": 0,
      "outputs": []
    },
    {
      "cell_type": "code",
      "metadata": {
        "id": "3_ODHX7e4tyf",
        "colab_type": "code",
        "colab": {}
      },
      "source": [
        "!cp id_rsa /root/.ssh/\n",
        "!chmod 600 /root/.ssh/id_rsa"
      ],
      "execution_count": 0,
      "outputs": []
    },
    {
      "cell_type": "markdown",
      "metadata": {
        "id": "PcZ70csu5VIy",
        "colab_type": "text"
      },
      "source": [
        "# Set password default to linux"
      ]
    },
    {
      "cell_type": "code",
      "metadata": {
        "id": "i55rlpom5USv",
        "colab_type": "code",
        "colab": {}
      },
      "source": [
        "!echo -e \"linux\\nlinux\" | passwd root"
      ],
      "execution_count": 0,
      "outputs": []
    },
    {
      "cell_type": "markdown",
      "metadata": {
        "id": "HogIe_cv5vL3",
        "colab_type": "text"
      },
      "source": [
        "# Set Up reverse ssh\n",
        "PORT_NUMBER_LOCAL_CLIENT -> PORT of local ssh server exposed to internet\\\n",
        "FORWARDED_PORT_LOCAL -> forwarded port of ssh we will use this later to ssh\\\n",
        "USERNAME -> username of local server\\\n",
        "PUBLIC_IP -> public facing local ip address"
      ]
    },
    {
      "cell_type": "code",
      "metadata": {
        "id": "IvOhX1yU5aPj",
        "colab_type": "code",
        "colab": {}
      },
      "source": [
        "!ssh -o \"StrictHostKeyChecking no\" -i /root/.ssh/id_rsa -p PORT_NUMBER_LOCAL_CLIENT -R FORWARDED_PORT_LOCAL:localhost:22 USERNAME@PUBLIC_IP"
      ],
      "execution_count": 0,
      "outputs": []
    },
    {
      "cell_type": "markdown",
      "metadata": {
        "id": "k3Kobu3c6R-A",
        "colab_type": "text"
      },
      "source": [
        "# How to ssh?\n",
        "ssh root@localhost -p FORWARDED_PORT_LOCAL\\\n",
        "It will prompt you for your password.(default linux)\n",
        "# How to connect to vscode?\n",
        "Use vscode remote extension. See [tips and tricks](https://code.visualstudio.com/blogs/2019/10/03/remote-ssh-tips-and-tricks).\n",
        "## Linux \n",
        "On Linux follow vscode instructions on how to connect.\\\n",
        "ssh config:\\\n",
        "HostName: localhost\\\n",
        "User: root\\\n",
        "Port: 9999\\\n",
        "It will prompt you for your password.(default linux)\n",
        "## Using VM on windows\n",
        "I used a ubuntu 18.04 server vm.\n",
        "ssh config: \\\n",
        "```\n",
        "Host jump-box\n",
        "    HostName jumpbox-ip\n",
        "    User username\n",
        "    IdentityFile ~/.ssh/id_rsa\n",
        "\n",
        "# Target machine with private IP address\n",
        "Host target-box\n",
        "    HostName localhost\n",
        "    User root\n",
        "    Port 9999\n",
        "    ProxyCommand ssh.exe -W %h:%p jump-box\n",
        "```"
      ]
    }
  ]
}