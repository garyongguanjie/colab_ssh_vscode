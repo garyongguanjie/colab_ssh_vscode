{
 "cells": [
  {
   "cell_type": "markdown",
   "metadata": {
    "colab_type": "text",
    "id": "Foe594k_42Ok"
   },
   "source": [
    "# Install ssh server"
   ]
  },
  {
   "cell_type": "code",
   "execution_count": 0,
   "metadata": {
    "colab": {},
    "colab_type": "code",
    "id": "NMRLGC3R4pVZ"
   },
   "outputs": [],
   "source": [
    "# Install and enable SSH server\n",
    "! apt-get install -qq -o=Dpkg::Use-Pty=0 openssh-server > /dev/null\n",
    "! mkdir -p /var/run/sshd\n",
    "! echo \"PermitRootLogin yes\" >> /etc/ssh/sshd_config \n",
    "get_ipython().system_raw('/usr/sbin/sshd -D &')"
   ]
  },
  {
   "cell_type": "markdown",
   "metadata": {
    "colab_type": "text",
    "id": "JJ-9AUlU5BoN"
   },
   "source": [
    "# Make directory for SSH"
   ]
  },
  {
   "cell_type": "code",
   "execution_count": 0,
   "metadata": {
    "colab": {},
    "colab_type": "code",
    "id": "hIk9J0-z4r4z"
   },
   "outputs": [],
   "source": [
    "!mkdir /root/.ssh"
   ]
  },
  {
   "cell_type": "markdown",
   "metadata": {
    "colab_type": "text",
    "id": "p--o8Fuj5GZF"
   },
   "source": [
    "# Upload private key"
   ]
  },
  {
   "cell_type": "code",
   "execution_count": 0,
   "metadata": {
    "colab": {},
    "colab_type": "code",
    "id": "WgRaCUjj4vpg"
   },
   "outputs": [],
   "source": [
    "from google.colab import files\n",
    "uploaded = files.upload()"
   ]
  },
  {
   "cell_type": "code",
   "execution_count": 0,
   "metadata": {
    "colab": {},
    "colab_type": "code",
    "id": "3_ODHX7e4tyf"
   },
   "outputs": [],
   "source": [
    "!cp id_rsa /root/.ssh/\n",
    "!chmod 600 /root/.ssh/id_rsa"
   ]
  },
  {
   "cell_type": "markdown",
   "metadata": {
    "colab_type": "text",
    "id": "PcZ70csu5VIy"
   },
   "source": [
    "# Set password default to linux"
   ]
  },
  {
   "cell_type": "code",
   "execution_count": 0,
   "metadata": {
    "colab": {},
    "colab_type": "code",
    "id": "i55rlpom5USv"
   },
   "outputs": [],
   "source": [
    "!echo -e \"linux\\nlinux\" | passwd root"
   ]
  },
  {
   "cell_type": "markdown",
   "metadata": {
    "colab_type": "text",
    "id": "HogIe_cv5vL3"
   },
   "source": [
    "# Set Up reverse ssh\n",
    "<p>\n",
    "PORT_NUMBER_LOCAL_CLIENT -> PORT of local ssh server exposed to internet<br>\n",
    "FORWARDED_PORT_LOCAL -> forwarded port of ssh we will use this later to ssh<br>\n",
    "USERNAME -> username of local server<br>\n",
    "PUBLIC_IP -> public facing local ip address\n",
    "<\\p>"
   ]
  },
  {
   "cell_type": "code",
   "execution_count": 0,
   "metadata": {
    "colab": {},
    "colab_type": "code",
    "id": "IvOhX1yU5aPj"
   },
   "outputs": [],
   "source": [
    "!ssh -o \"StrictHostKeyChecking no\" -i /root/.ssh/id_rsa -p PORT_NUMBER_LOCAL_CLIENT -R FORWARDED_PORT_LOCAL:localhost:22 USERNAME@PUBLIC_IP"
   ]
  },
  {
   "cell_type": "markdown",
   "metadata": {
    "colab_type": "text",
    "id": "k3Kobu3c6R-A"
   },
   "source": [
    "# How to ssh?\n",
    "ssh root@localhost -p FORWARDED_PORT_LOCAL<br>\n",
    "It will prompt you for your password.(default linux)\n",
    "# How to connect to vscode?\n",
    "Use vscode remote extension. See [tips and tricks](https://code.visualstudio.com/blogs/2019/10/03/remote-ssh-tips-and-tricks).\n",
    "## Linux \n",
    "On Linux follow vscode instructions on how to connect.<br>\n",
    "ssh config:<br>\n",
    "```\n",
    "HostName: localhost\n",
    "    User: root\n",
    "    Port: 9999\n",
    "```\n",
    "It will prompt you for your password.(default linux)\n",
    "## Using VM on windows\n",
    "I used a ubuntu 18.04 server vm.\n",
    "ssh config: \n",
    "```\n",
    "Host jump-box\n",
    "    HostName jumpbox-ip\n",
    "    User username\n",
    "    IdentityFile ~/.ssh/id_rsa\n",
    "\n",
    "# Target machine with private IP address\n",
    "Host target-box\n",
    "    HostName localhost\n",
    "    User root\n",
    "    Port 9999\n",
    "    ProxyCommand ssh.exe -W %h:%p jump-box\n",
    "```"
   ]
  },
  {
   "cell_type": "code",
   "execution_count": null,
   "metadata": {},
   "outputs": [],
   "source": []
  }
 ],
 "metadata": {
  "colab": {
   "name": "colab_ssh_vscode.ipynb",
   "provenance": []
  },
  "kernelspec": {
   "display_name": "Python 3",
   "language": "python",
   "name": "python3"
  },
  "language_info": {
   "codemirror_mode": {
    "name": "ipython",
    "version": 3
   },
   "file_extension": ".py",
   "mimetype": "text/x-python",
   "name": "python",
   "nbconvert_exporter": "python",
   "pygments_lexer": "ipython3",
   "version": "3.7.4"
  },
  "varInspector": {
   "cols": {
    "lenName": 16,
    "lenType": 16,
    "lenVar": 40
   },
   "kernels_config": {
    "python": {
     "delete_cmd_postfix": "",
     "delete_cmd_prefix": "del ",
     "library": "var_list.py",
     "varRefreshCmd": "print(var_dic_list())"
    },
    "r": {
     "delete_cmd_postfix": ") ",
     "delete_cmd_prefix": "rm(",
     "library": "var_list.r",
     "varRefreshCmd": "cat(var_dic_list()) "
    }
   },
   "types_to_exclude": [
    "module",
    "function",
    "builtin_function_or_method",
    "instance",
    "_Feature"
   ],
   "window_display": false
  }
 },
 "nbformat": 4,
 "nbformat_minor": 1
}
